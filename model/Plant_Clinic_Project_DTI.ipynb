{
  "nbformat": 4,
  "nbformat_minor": 0,
  "metadata": {
    "colab": {
      "name": "Plant Clinic Project - DTI.ipynb",
      "provenance": [],
      "collapsed_sections": [
        "tv_zxPUM_wuY",
        "V-emHGZ-_1vM",
        "MhEuw1ltMwC2",
        "l-gLjfP8QC-4",
        "IbwFj9l0Q1cZ",
        "mjooWrtWRB77",
        "9zc9vl6ZlBuj",
        "_bEy8wEul1GH"
      ],
      "toc_visible": true
    },
    "kernelspec": {
      "name": "python3",
      "display_name": "Python 3"
    },
    "accelerator": "GPU"
  },
  "cells": [
    {
      "cell_type": "markdown",
      "metadata": {
        "id": "tv_zxPUM_wuY"
      },
      "source": [
        "# Load Data"
      ]
    },
    {
      "cell_type": "code",
      "metadata": {
        "colab": {
          "base_uri": "https://localhost:8080/"
        },
        "id": "6YnAXLu16eEh",
        "outputId": "bb8d5bca-2e32-479a-d123-b2ea540bf7c5"
      },
      "source": [
        "!pip install kaggle"
      ],
      "execution_count": null,
      "outputs": [
        {
          "output_type": "stream",
          "text": [
            "Requirement already satisfied: kaggle in /usr/local/lib/python3.6/dist-packages (1.5.10)\n",
            "Requirement already satisfied: certifi in /usr/local/lib/python3.6/dist-packages (from kaggle) (2020.12.5)\n",
            "Requirement already satisfied: urllib3 in /usr/local/lib/python3.6/dist-packages (from kaggle) (1.24.3)\n",
            "Requirement already satisfied: python-slugify in /usr/local/lib/python3.6/dist-packages (from kaggle) (4.0.1)\n",
            "Requirement already satisfied: python-dateutil in /usr/local/lib/python3.6/dist-packages (from kaggle) (2.8.1)\n",
            "Requirement already satisfied: tqdm in /usr/local/lib/python3.6/dist-packages (from kaggle) (4.41.1)\n",
            "Requirement already satisfied: six>=1.10 in /usr/local/lib/python3.6/dist-packages (from kaggle) (1.15.0)\n",
            "Requirement already satisfied: requests in /usr/local/lib/python3.6/dist-packages (from kaggle) (2.23.0)\n",
            "Requirement already satisfied: text-unidecode>=1.3 in /usr/local/lib/python3.6/dist-packages (from python-slugify->kaggle) (1.3)\n",
            "Requirement already satisfied: chardet<4,>=3.0.2 in /usr/local/lib/python3.6/dist-packages (from requests->kaggle) (3.0.4)\n",
            "Requirement already satisfied: idna<3,>=2.5 in /usr/local/lib/python3.6/dist-packages (from requests->kaggle) (2.10)\n"
          ],
          "name": "stdout"
        }
      ]
    },
    {
      "cell_type": "code",
      "metadata": {
        "id": "lYZYOnAtjWp4"
      },
      "source": [
        "# upload kaggle.json yang didapatkan dari akun kaggle\r\n",
        "\r\n",
        "from google.colab import files\r\n",
        "files.upload()"
      ],
      "execution_count": null,
      "outputs": []
    },
    {
      "cell_type": "code",
      "metadata": {
        "id": "ipeoxGgs7mtn"
      },
      "source": [
        "!mkdir -p ~/.kaggle\r\n",
        "!cp kaggle.json ~/.kaggle/\r\n",
        "\r\n",
        "# change the permission\r\n",
        "!chmod 600 ~/.kaggle/kaggle.json"
      ],
      "execution_count": null,
      "outputs": []
    },
    {
      "cell_type": "code",
      "metadata": {
        "colab": {
          "base_uri": "https://localhost:8080/"
        },
        "id": "wkjgRD5373mr",
        "outputId": "ec987c9f-eefb-4ceb-a26f-9bb3f3fb16db"
      },
      "source": [
        "# download dataset dari kaggle\r\n",
        "\r\n",
        "!kaggle datasets download -d vipoooool/new-plant-diseases-dataset"
      ],
      "execution_count": null,
      "outputs": [
        {
          "output_type": "stream",
          "text": [
            "Downloading new-plant-diseases-dataset.zip to /content\n",
            "100% 2.70G/2.70G [00:40<00:00, 34.6MB/s]\n",
            "100% 2.70G/2.70G [00:40<00:00, 71.1MB/s]\n"
          ],
          "name": "stdout"
        }
      ]
    },
    {
      "cell_type": "code",
      "metadata": {
        "colab": {
          "base_uri": "https://localhost:8080/"
        },
        "id": "u07cjb9k90kw",
        "outputId": "e7dc8b6a-8bc3-487b-a440-259ab06ba1a4"
      },
      "source": [
        "# unzip file\r\n",
        "\r\n",
        "from zipfile import ZipFile\r\n",
        "file_name = '/content/new-plant-diseases-dataset.zip'\r\n",
        "\r\n",
        "with ZipFile(file_name, 'r') as zip:\r\n",
        "  zip.extractall()\r\n",
        "  print('Done')"
      ],
      "execution_count": null,
      "outputs": [
        {
          "output_type": "stream",
          "text": [
            "Done\n"
          ],
          "name": "stdout"
        }
      ]
    },
    {
      "cell_type": "markdown",
      "metadata": {
        "id": "V-emHGZ-_1vM"
      },
      "source": [
        "# Preprocessing"
      ]
    },
    {
      "cell_type": "code",
      "metadata": {
        "id": "a8htjFCAAMfh"
      },
      "source": [
        "import tensorflow as tf\r\n",
        "from tensorflow.keras.optimizers import RMSprop\r\n",
        "from tensorflow.keras.preprocessing.image import ImageDataGenerator\r\n",
        "import zipfile,os\r\n",
        "from keras.preprocessing import image\r\n",
        "import math, cv2, os\r\n",
        "import numpy as np\r\n",
        "import matplotlib.pyplot as plt\r\n",
        "import matplotlib.image as mpimg\r\n",
        "%matplotlib inline"
      ],
      "execution_count": null,
      "outputs": []
    },
    {
      "cell_type": "code",
      "metadata": {
        "id": "Zqg6vAWA-EIG"
      },
      "source": [
        "train_dataset_path = \"/content/new plant diseases dataset(augmented)/New Plant Diseases Dataset(Augmented)/train\"\r\n",
        "test_dataset_path = \"/content/new plant diseases dataset(augmented)/New Plant Diseases Dataset(Augmented)/valid\""
      ],
      "execution_count": null,
      "outputs": []
    },
    {
      "cell_type": "code",
      "metadata": {
        "id": "p_j225s0_z0B"
      },
      "source": [
        "# data augmentation\r\n",
        "\r\n",
        "train_datagen = ImageDataGenerator(rescale = 1./255,\r\n",
        "                                   rotation_range=30, \r\n",
        "                                   zoom_range=0.2,\r\n",
        "                                   horizontal_flip=True, \r\n",
        "                                   )\r\n",
        "\r\n",
        "test_datagen = ImageDataGenerator(rescale = 1./255)"
      ],
      "execution_count": null,
      "outputs": []
    },
    {
      "cell_type": "code",
      "metadata": {
        "id": "I2cd_ataFl55"
      },
      "source": [
        "final_size = (224, 224)\r\n",
        "final_batch = 32"
      ],
      "execution_count": null,
      "outputs": []
    },
    {
      "cell_type": "code",
      "metadata": {
        "colab": {
          "base_uri": "https://localhost:8080/"
        },
        "id": "iDrVtzW8JJ-h",
        "outputId": "62c6cfca-2933-4380-8a9e-94dd1692d637"
      },
      "source": [
        "training_set = train_datagen.flow_from_directory(train_dataset_path,\r\n",
        "                                                 target_size = final_size,\r\n",
        "                                                 batch_size = final_batch,\r\n",
        "                                                 class_mode = 'categorical')"
      ],
      "execution_count": null,
      "outputs": [
        {
          "output_type": "stream",
          "text": [
            "Found 70295 images belonging to 38 classes.\n"
          ],
          "name": "stdout"
        }
      ]
    },
    {
      "cell_type": "code",
      "metadata": {
        "colab": {
          "base_uri": "https://localhost:8080/"
        },
        "id": "l9N-rb-fJKfE",
        "outputId": "919c985a-61fc-4ca5-cea5-f366a95a9df8"
      },
      "source": [
        "test_set = test_datagen.flow_from_directory(test_dataset_path,\r\n",
        "                                                 target_size = final_size,\r\n",
        "                                                 batch_size = final_batch,\r\n",
        "                                                 class_mode = 'categorical')"
      ],
      "execution_count": null,
      "outputs": [
        {
          "output_type": "stream",
          "text": [
            "Found 17572 images belonging to 38 classes.\n"
          ],
          "name": "stdout"
        }
      ]
    },
    {
      "cell_type": "markdown",
      "metadata": {
        "id": "MhEuw1ltMwC2"
      },
      "source": [
        "# Build Model"
      ]
    },
    {
      "cell_type": "code",
      "metadata": {
        "id": "nvgWbJiLF2Nq"
      },
      "source": [
        "# arsitektur model\r\n",
        "\r\n",
        "model = tf.keras.models.Sequential([\r\n",
        "    tf.keras.layers.Conv2D(32, (3,3), activation='relu', input_shape=(224, 224, 3), padding='same', strides=(1,1)),\r\n",
        "    tf.keras.layers.MaxPooling2D(2, 2),\r\n",
        "\r\n",
        "    tf.keras.layers.Conv2D(64, (3,3), activation='relu', padding='same', strides=(1,1)),\r\n",
        "    tf.keras.layers.MaxPooling2D(2,2),\r\n",
        "\r\n",
        "    tf.keras.layers.Conv2D(128, (3,3), activation='relu', padding='same', strides=(1,1)),\r\n",
        "    tf.keras.layers.MaxPooling2D(2,2),\r\n",
        "\r\n",
        "    tf.keras.layers.Conv2D(256, (3,3), activation='relu', padding='same',strides=(1,1)),\r\n",
        "    tf.keras.layers.MaxPooling2D(2,2),\r\n",
        "\r\n",
        "    tf.keras.layers.Conv2D(512, (3,3), activation='relu', padding='same',strides=(1,1)),\r\n",
        "    tf.keras.layers.MaxPooling2D(2,2),\r\n",
        "    tf.keras.layers.Flatten(),\r\n",
        "\r\n",
        "    tf.keras.layers.Dense(1024, activation='relu'),\r\n",
        "    tf.keras.layers.Dense(38, activation='softmax')\r\n",
        "])"
      ],
      "execution_count": null,
      "outputs": []
    },
    {
      "cell_type": "code",
      "metadata": {
        "id": "A7XQ9OTGHRVx"
      },
      "source": [
        "from tensorflow.keras.optimizers import Adam\r\n",
        "\r\n",
        "opt = Adam(\r\n",
        "    lr=0.001, \r\n",
        "    #momentum=0.9\r\n",
        ")\r\n"
      ],
      "execution_count": null,
      "outputs": []
    },
    {
      "cell_type": "code",
      "metadata": {
        "id": "gJ9DrgYGMzDM"
      },
      "source": [
        "model.compile(loss='categorical_crossentropy',\r\n",
        "              optimizer=opt,\r\n",
        "              metrics=['accuracy']\r\n",
        ")"
      ],
      "execution_count": null,
      "outputs": []
    },
    {
      "cell_type": "code",
      "metadata": {
        "colab": {
          "base_uri": "https://localhost:8080/"
        },
        "id": "rP2I3lzcMziT",
        "outputId": "caf22412-d507-47ef-8f6b-c0b6c8aaa02e"
      },
      "source": [
        "print(model.summary())"
      ],
      "execution_count": null,
      "outputs": [
        {
          "output_type": "stream",
          "text": [
            "Model: \"sequential\"\n",
            "_________________________________________________________________\n",
            "Layer (type)                 Output Shape              Param #   \n",
            "=================================================================\n",
            "conv2d (Conv2D)              (None, 224, 224, 32)      896       \n",
            "_________________________________________________________________\n",
            "max_pooling2d (MaxPooling2D) (None, 112, 112, 32)      0         \n",
            "_________________________________________________________________\n",
            "conv2d_1 (Conv2D)            (None, 112, 112, 64)      18496     \n",
            "_________________________________________________________________\n",
            "max_pooling2d_1 (MaxPooling2 (None, 56, 56, 64)        0         \n",
            "_________________________________________________________________\n",
            "conv2d_2 (Conv2D)            (None, 56, 56, 128)       73856     \n",
            "_________________________________________________________________\n",
            "max_pooling2d_2 (MaxPooling2 (None, 28, 28, 128)       0         \n",
            "_________________________________________________________________\n",
            "conv2d_3 (Conv2D)            (None, 28, 28, 256)       295168    \n",
            "_________________________________________________________________\n",
            "max_pooling2d_3 (MaxPooling2 (None, 14, 14, 256)       0         \n",
            "_________________________________________________________________\n",
            "conv2d_4 (Conv2D)            (None, 14, 14, 512)       1180160   \n",
            "_________________________________________________________________\n",
            "max_pooling2d_4 (MaxPooling2 (None, 7, 7, 512)         0         \n",
            "_________________________________________________________________\n",
            "flatten (Flatten)            (None, 25088)             0         \n",
            "_________________________________________________________________\n",
            "dense (Dense)                (None, 1024)              25691136  \n",
            "_________________________________________________________________\n",
            "dense_1 (Dense)              (None, 38)                38950     \n",
            "=================================================================\n",
            "Total params: 27,298,662\n",
            "Trainable params: 27,298,662\n",
            "Non-trainable params: 0\n",
            "_________________________________________________________________\n",
            "None\n"
          ],
          "name": "stdout"
        }
      ]
    },
    {
      "cell_type": "markdown",
      "metadata": {
        "id": "l-gLjfP8QC-4"
      },
      "source": [
        "# Adding Tweaks"
      ]
    },
    {
      "cell_type": "code",
      "metadata": {
        "id": "TQ-OagZJQILh"
      },
      "source": [
        "from tensorflow.keras.callbacks import EarlyStopping\r\n",
        "\r\n",
        "early_stop = EarlyStopping(\r\n",
        "    monitor='val_accuracy',\r\n",
        "    patience=4,\r\n",
        ")"
      ],
      "execution_count": null,
      "outputs": []
    },
    {
      "cell_type": "markdown",
      "metadata": {
        "id": "IbwFj9l0Q1cZ"
      },
      "source": [
        "# Fitting"
      ]
    },
    {
      "cell_type": "code",
      "metadata": {
        "colab": {
          "base_uri": "https://localhost:8080/"
        },
        "id": "tlsMGXy2Q2na",
        "outputId": "1eec32db-c9d7-4feb-b586-6fe7366a60a1"
      },
      "source": [
        "num_epochs = 5\r\n",
        "history = model.fit(training_set,  \r\n",
        "                      epochs=num_epochs, \r\n",
        "                      validation_data = test_set, \r\n",
        "                      verbose=2, \r\n",
        "                      steps_per_epoch = len(training_set),\r\n",
        "                      validation_steps = len(test_set), \r\n",
        "                      callbacks = early_stop)"
      ],
      "execution_count": null,
      "outputs": [
        {
          "output_type": "stream",
          "text": [
            "Epoch 1/5\n",
            "2197/2197 - 767s - loss: 1.2620 - accuracy: 0.6175 - val_loss: 0.7078 - val_accuracy: 0.7765\n",
            "Epoch 2/5\n",
            "2197/2197 - 761s - loss: 0.3961 - accuracy: 0.8699 - val_loss: 0.3438 - val_accuracy: 0.8875\n",
            "Epoch 3/5\n",
            "2197/2197 - 758s - loss: 0.2544 - accuracy: 0.9157 - val_loss: 0.2565 - val_accuracy: 0.9146\n",
            "Epoch 4/5\n",
            "2197/2197 - 756s - loss: 0.1983 - accuracy: 0.9344 - val_loss: 0.1880 - val_accuracy: 0.9414\n",
            "Epoch 5/5\n",
            "2197/2197 - 756s - loss: 0.1644 - accuracy: 0.9450 - val_loss: 0.2807 - val_accuracy: 0.9137\n"
          ],
          "name": "stdout"
        }
      ]
    },
    {
      "cell_type": "markdown",
      "metadata": {
        "id": "mjooWrtWRB77"
      },
      "source": [
        "# Visualisasi"
      ]
    },
    {
      "cell_type": "code",
      "metadata": {
        "colab": {
          "base_uri": "https://localhost:8080/",
          "height": 295
        },
        "id": "zldFb1OVRJ8r",
        "outputId": "da6732de-0a97-4010-bc8f-70c4bafe7b7b"
      },
      "source": [
        "plt.plot(history.history['accuracy'])\r\n",
        "plt.plot(history.history['val_accuracy'])\r\n",
        "plt.title('Model Accuracy')\r\n",
        "plt.ylabel('Accuracy')\r\n",
        "plt.xlabel('Epoch')\r\n",
        "plt.legend(['accuracy', 'val_accuracy'], loc='lower right')\r\n",
        "plt.show()"
      ],
      "execution_count": null,
      "outputs": [
        {
          "output_type": "display_data",
          "data": {
            "image/png": "[encoded data removed]",
            "text/plain": [
              "<Figure size 432x288 with 1 Axes>"
            ]
          },
          "metadata": {
            "tags": [],
            "needs_background": "light"
          }
        }
      ]
    },
    {
      "cell_type": "code",
      "metadata": {
        "colab": {
          "base_uri": "https://localhost:8080/",
          "height": 295
        },
        "id": "ccQIX61IQ-9w",
        "outputId": "f4c20c8a-d6ac-45cb-b4c1-ddab325f9c7c"
      },
      "source": [
        "plt.plot(history.history['loss'])\r\n",
        "plt.plot(history.history['val_loss'])\r\n",
        "plt.title('Model Loss')\r\n",
        "plt.ylabel('Loss')\r\n",
        "plt.xlabel('Epoch')\r\n",
        "plt.legend(['loss', 'val_loss'], loc='upper right')\r\n",
        "plt.show()"
      ],
      "execution_count": null,
      "outputs": [
        {
          "output_type": "display_data",
          "data": {
            "image/png": "[encoded data removed]",
            "text/plain": [
              "<Figure size 432x288 with 1 Axes>"
            ]
          },
          "metadata": {
            "tags": [],
            "needs_background": "light"
          }
        }
      ]
    },
    {
      "cell_type": "markdown",
      "metadata": {
        "id": "9zc9vl6ZlBuj"
      },
      "source": [
        "# Prediksi"
      ]
    },
    {
      "cell_type": "code",
      "metadata": {
        "id": "O60paZo8lATr"
      },
      "source": [
        "y_pred = model.predict(test_set)"
      ],
      "execution_count": null,
      "outputs": []
    },
    {
      "cell_type": "code",
      "metadata": {
        "colab": {
          "base_uri": "https://localhost:8080/"
        },
        "id": "s7iBKd-cmrXw",
        "outputId": "27bdab0e-0bea-4d3f-aacc-4bd0bbf1172e"
      },
      "source": [
        "y_pred"
      ],
      "execution_count": null,
      "outputs": [
        {
          "output_type": "execute_result",
          "data": {
            "text/plain": [
              "array([[1.9835387e-11, 6.4584921e-11, 1.2941067e-16, ..., 4.4718210e-16,\n",
              "        3.1653946e-12, 2.9685905e-13],\n",
              "       [9.8801980e-09, 3.4118623e-09, 1.3558514e-07, ..., 6.1942727e-09,\n",
              "        3.0436942e-07, 8.9757997e-09],\n",
              "       [6.5015049e-10, 1.2945981e-08, 1.5328369e-13, ..., 3.8177694e-13,\n",
              "        2.4001766e-08, 2.1031154e-07],\n",
              "       ...,\n",
              "       [5.7997180e-09, 1.8007836e-03, 1.6703618e-11, ..., 1.4322076e-17,\n",
              "        9.3671904e-10, 2.3814631e-12],\n",
              "       [5.9453680e-05, 1.7957521e-07, 6.9767141e-01, ..., 2.9152568e-04,\n",
              "        7.6105886e-07, 8.4499021e-07],\n",
              "       [1.1400397e-14, 3.5810604e-05, 3.8786516e-14, ..., 2.4120326e-18,\n",
              "        3.7709692e-16, 4.1981592e-18]], dtype=float32)"
            ]
          },
          "metadata": {
            "tags": []
          },
          "execution_count": 25
        }
      ]
    },
    {
      "cell_type": "code",
      "metadata": {
        "colab": {
          "base_uri": "https://localhost:8080/"
        },
        "id": "URBpKPyRmxOe",
        "outputId": "4c373936-c7ce-4bd2-fbcc-3658cd9d71fa"
      },
      "source": [
        "y_pred = np.argmax(y_pred, axis=1)\r\n",
        "y_pred"
      ],
      "execution_count": null,
      "outputs": [
        {
          "output_type": "execute_result",
          "data": {
            "text/plain": [
              "array([24, 27, 31, ..., 19,  2, 14])"
            ]
          },
          "metadata": {
            "tags": []
          },
          "execution_count": 26
        }
      ]
    },
    {
      "cell_type": "markdown",
      "metadata": {
        "id": "wpn53bPYoA7k"
      },
      "source": [
        "# Upload Gambar"
      ]
    },
    {
      "cell_type": "code",
      "metadata": {
        "colab": {
          "resources": {
            "http://localhost:8080/nbextensions/google.colab/files.js": {
              "data": "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",
              "ok": true,
              "headers": [
                [
                  "content-type",
                  "application/javascript"
                ]
              ],
              "status": 200,
              "status_text": ""
            }
          },
          "base_uri": "https://localhost:8080/",
          "height": 91
        },
        "id": "BVWHIhAKs6xn",
        "outputId": "1c0fc77f-fff3-4025-d147-3fa58ec37e63"
      },
      "source": [
        "uploaded = files.upload()\r\n",
        "\r\n",
        "for fn in uploaded.keys():\r\n",
        " \r\n",
        "      img_path = fn\r\n",
        "      img = image.load_img(img_path, target_size=(224, 224))\r\n",
        "      \r\n",
        "      # Preprocessing image\r\n",
        "      x = image.img_to_array(img)\r\n",
        "     \r\n",
        "      # Scaling\r\n",
        "      x = x/255\r\n",
        "      x = np.expand_dims(x, axis=0)\r\n",
        "    \r\n",
        "      \r\n",
        "      preds = model.predict(x)\r\n",
        "      preds=np.argmax(preds, axis=1)\r\n",
        "\r\n",
        "      if preds==0: #Apple___Apple_scab\r\n",
        "          preds=\"Tanamanmu terkena penyakit Apple Scab\"\r\n",
        "      elif preds==1: #Apple___Black_rot\r\n",
        "          preds=\"Tanamanmu terkena penyakit Black Rot\"\r\n",
        "      elif preds==2: #Apple___Cedar_apple_rust\r\n",
        "          preds=\"Tanamanmu terkena penyakit Cedar Apple Rust\"\r\n",
        "      elif preds==5: #Cherry_(including_sour)___Powdery_mildew\r\n",
        "          preds=\"Tanamanmu terkena penyakit Powdery Mildew\"\r\n",
        "      elif preds==7: #Corn_(maize)___Cercospora_leaf_spot Gray_leaf_spot\r\n",
        "          preds=\"Tanamanmu terkena penyakit Cercospora Leaf Spot Gray Leaf Spot\"\r\n",
        "      elif preds==8: #8 Corn_(maize)___Common_rust_\r\n",
        "          preds=\"Tanamanmu terkena penyakit Common Rust\"\r\n",
        "      elif preds==9: #9 Corn_(maize)___Northern_Leaf_Blight\r\n",
        "          preds=\"Tanamanmu terkena penyakit Northern Leaf Blight\"\r\n",
        "      elif preds==11: #Grape___Black_rot\r\n",
        "          preds=\"Tanamanmu terkena penyakit Black Rot\"\r\n",
        "      elif preds==12: #Grape___Esca_(Black_Measles)\r\n",
        "          preds=\"Tanamanmu terkena penyakit Esca (Black Measles)\"\r\n",
        "      elif preds==13: #Grape___Leaf_blight_(Isariopsis_Leaf_Spot)\r\n",
        "          preds=\"Tanamanmu terkena penyakit Leaf blight (Isariopsis Leaf Spot)\"\r\n",
        "      elif preds==15: #Orange___Haunglongbing_(Citrus_greening)\r\n",
        "          preds=\"Tanamanmu terkena penyakit Haunglongbing (Citrus greening)\"\r\n",
        "      elif preds==16: #Peach___Bacterial_spot\r\n",
        "          preds=\"Tanamanmu terkena penyakit Bacterial Spot\"\r\n",
        "      elif preds==18: #18 Pepper,_bell___Bacterial_spot\r\n",
        "          preds=\"Tanamanmu terkena penyakit bell Bacterial spot\"\r\n",
        "      elif preds==20: #20 Potato___Early_blight\r\n",
        "          preds=\"Tanamanmu terkena penyakit Early blight\"\r\n",
        "      elif preds==21: #21 Potato___Late_blight\r\n",
        "          preds=\"Tanamanmu terkena penyakit Late blight\"\r\n",
        "      elif preds==25: #25 Squash___Powdery_mildew \r\n",
        "          preds=\"Tanamanmu terkena penyakit Powdery Mildew\"\r\n",
        "      elif preds==26: #26 Strawberry___Leaf_scorch\r\n",
        "          preds=\"Tanamanmu terkena penyakit Leaf scorch\"\r\n",
        "      elif preds==28: #28 Tomato___Bacterial_spot \r\n",
        "          preds=\"Tanamanmu terkena penyakit Bacterial spot \"\r\n",
        "      elif preds==29: #29 Tomato___Early_blight\r\n",
        "          preds=\"Tanamanmu terkena penyakit Early_blight\"\r\n",
        "      elif preds==30: #30 Tomato___Late_blight\r\n",
        "          preds=\"Tanamanmu terkena penyakit Late blight\"\r\n",
        "      elif preds==31: #31 Tomato___Leaf_Mold\r\n",
        "          preds=\"Tanamanmu terkena penyakit Leaf Mold\"\r\n",
        "      elif preds==32: #32 Tomato___Septoria_leaf_spot\r\n",
        "          preds=\"Tanamanmu terkena penyakit Septoria Leaf Spot\"\r\n",
        "      elif preds==33: #33 Tomato___Spider_mites Two-spotted_spider_mite\r\n",
        "          preds=\"Tanamanmu terkena penyakit Spider mites Two-spotted spider mite\"\r\n",
        "      elif preds==34: #34 Tomato___Target_Spot\r\n",
        "          preds=\"Tanamanmu terkena penyakit Target_Spot\"\r\n",
        "      elif preds==35: #35 Tomato___Tomato_Yellow_Leaf_Curl_Virus\r\n",
        "          preds=\"Tanamanmu terkena penyakit Tomato Yellow Leaf Curl Virus\"\r\n",
        "      elif preds==36: #36 Tomato___Tomato_mosaic_virus\r\n",
        "          preds=\"Tanamanmu terkena penyakit Tomato mosaic virus\"     \r\n",
        "      else:\r\n",
        "          preds=\"Yes tanamanmu sehat, pertahankan ^_^\"\r\n",
        "      \r\n",
        "      \r\n",
        "      print(preds)"
      ],
      "execution_count": null,
      "outputs": [
        {
          "output_type": "display_data",
          "data": {
            "text/html": [
              "\n",
              "     <input type=\"file\" id=\"files-c123175f-dbb1-4129-8de5-9fb26563b47a\" name=\"files[]\" multiple disabled\n",
              "        style=\"border:none\" />\n",
              "     <output id=\"result-c123175f-dbb1-4129-8de5-9fb26563b47a\">\n",
              "      Upload widget is only available when the cell has been executed in the\n",
              "      current browser session. Please rerun this cell to enable.\n",
              "      </output>\n",
              "      <script src=\"/nbextensions/google.colab/files.js\"></script> "
            ],
            "text/plain": [
              "<IPython.core.display.HTML object>"
            ]
          },
          "metadata": {
            "tags": []
          }
        },
        {
          "output_type": "stream",
          "text": [
            "Saving 023123cb-7b69-4c9f-a521-766d7c8543bb___FREC_Scab 3487.JPG to 023123cb-7b69-4c9f-a521-766d7c8543bb___FREC_Scab 3487.JPG\n",
            "Tanamanmu terkena penyakit Apple Scab\n"
          ],
          "name": "stdout"
        }
      ]
    },
    {
      "cell_type": "markdown",
      "metadata": {
        "id": "_bEy8wEul1GH"
      },
      "source": [
        "# Save Model"
      ]
    },
    {
      "cell_type": "code",
      "metadata": {
        "id": "ld_3r-4C-QkM"
      },
      "source": [
        "model.save_weights('model_plant_disease_weight.h5')"
      ],
      "execution_count": null,
      "outputs": []
    },
    {
      "cell_type": "code",
      "metadata": {
        "id": "uMMjT-eh-lL8"
      },
      "source": [
        "# save ke json\r\n",
        "\r\n",
        "model_json = model.to_json()\r\n",
        "with open('model_plant_disease_1.json', 'w') as json_file:\r\n",
        "    json_file.write(model_json)"
      ],
      "execution_count": null,
      "outputs": []
    },
    {
      "cell_type": "code",
      "metadata": {
        "id": "LHy0RmpMl3P0"
      },
      "source": [
        "# save ke h5 file\r\n",
        "from tensorflow.keras.models import load_model\r\n",
        "\r\n",
        "model.save('model_plant_disease.h5')"
      ],
      "execution_count": null,
      "outputs": []
    }
  ]
}